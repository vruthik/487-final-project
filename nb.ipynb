{
 "cells": [
  {
   "cell_type": "code",
   "execution_count": 7,
   "metadata": {},
   "outputs": [
    {
     "name": "stdout",
     "output_type": "stream",
     "text": [
      "The autoreload extension is already loaded. To reload it, use:\n",
      "  %reload_ext autoreload\n"
     ]
    }
   ],
   "source": [
    "%load_ext autoreload\n",
    "%autoreload 2\n",
    "\n",
    "import pandas as pd\n",
    "from nltk.tokenize import word_tokenize\n",
    "from sklearn.covariance import log_likelihood\n",
    "from sklearn.feature_extraction.text import CountVectorizer\n",
    "from sklearn.naive_bayes import MultinomialNB\n",
    "from sklearn.model_selection import train_test_split\n",
    "from naivebayes import *\n",
    "from eval import *\n",
    "import numpy as np\n",
    "import math\n",
    "import pdb\n",
    "import chardet"
   ]
  },
  {
   "cell_type": "code",
   "execution_count": 8,
   "metadata": {},
   "outputs": [
    {
     "name": "stdout",
     "output_type": "stream",
     "text": [
      "text number of files: 1576\n",
      "   label                                               text\n",
      "0      0  YouTube says no ‘deepfakes’ or ‘birther’ video...\n",
      "1      2  FRISCO, Texas — The increasingly bitter disput...\n",
      "2      2  Speaking to the country for the first time fro...\n",
      "3      1  A professor who teaches climate change classes...\n",
      "4      1  The left has a thing for taking babies hostage...\n",
      "train data: 1260; test data: 316 \n"
     ]
    }
   ],
   "source": [
    "path = 'data/MBIC/labeled_dataset.csv'\n",
    "def load_data(path):\n",
    "    df = pd.read_csv(path)\n",
    "    df = df.dropna()\n",
    "    # df = df.rename({'type': 'raw-label'}, axis=1)\n",
    "    df = df.rename({'article': 'text'}, axis=1)\n",
    "    df['label'] = df['type'].map({'center': 0, 'right': 1, 'left': 2})\n",
    "    print(f'text number of files: {len(df)}')\n",
    "    return df[['label', 'text']]\n",
    "\n",
    "data = load_data(path)\n",
    "print(data.head())\n",
    "train, test = train_test_split(data, test_size=0.2, random_state=42)\n",
    "print(f'train data: {len(train)}; test data: {len(test)} ')\n"
   ]
  },
  {
   "cell_type": "code",
   "execution_count": 9,
   "metadata": {},
   "outputs": [
    {
     "name": "stdout",
     "output_type": "stream",
     "text": [
      "start fitting...\n",
      "Finished fiting vectorizer\n"
     ]
    }
   ],
   "source": [
    "nb = NaiveBayes()\n",
    "nb.preprocess(train)\n",
    "nb.fit()\n"
   ]
  },
  {
   "cell_type": "code",
   "execution_count": 10,
   "metadata": {},
   "outputs": [
    {
     "name": "stdout",
     "output_type": "stream",
     "text": [
      "start predicting...\n",
      "Accuracy: 0.8544303797468354\n",
      "-----------------------\n",
      "Macro\n",
      "F1 score macro: 0.8237381304353617\n",
      "Precision macro: 0.8252096379953255\n",
      "Recall macro: 0.8226655348047539\n",
      "-----------------------\n",
      "Micro\n",
      "F1 score micro: 0.8544303797468354\n",
      "Precision micro: 0.8544303797468354\n",
      "Recall micro: 0.8544303797468354\n"
     ]
    }
   ],
   "source": [
    "pred = nb.predict(test)\n",
    "nb.eval()"
   ]
  },
  {
   "cell_type": "code",
   "execution_count": null,
   "metadata": {},
   "outputs": [],
   "source": []
  }
 ],
 "metadata": {
  "interpreter": {
   "hash": "b28a24d0896abfdec92cf71e5189a14590bf86fe12c5d1d7d15a7a53497b35ab"
  },
  "kernelspec": {
   "display_name": "Python 3.9.7 64-bit ('main': conda)",
   "name": "python3"
  },
  "language_info": {
   "codemirror_mode": {
    "name": "ipython",
    "version": 3
   },
   "file_extension": ".py",
   "mimetype": "text/x-python",
   "name": "python",
   "nbconvert_exporter": "python",
   "pygments_lexer": "ipython3",
   "version": "3.9.7"
  },
  "orig_nbformat": 4
 },
 "nbformat": 4,
 "nbformat_minor": 2
}
